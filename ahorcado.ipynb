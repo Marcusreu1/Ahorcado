{
  "nbformat": 4,
  "nbformat_minor": 0,
  "metadata": {
    "colab": {
      "provenance": [],
      "authorship_tag": "ABX9TyN2Biuyi4rQjgYTdEcXMj2I",
      "include_colab_link": true
    },
    "kernelspec": {
      "name": "python3",
      "display_name": "Python 3"
    },
    "language_info": {
      "name": "python"
    }
  },
  "cells": [
    {
      "cell_type": "markdown",
      "metadata": {
        "id": "view-in-github",
        "colab_type": "text"
      },
      "source": [
        "<a href=\"https://colab.research.google.com/github/Marcusreu1/Ahorcado/blob/main/ahorcado.ipynb\" target=\"_parent\"><img src=\"https://colab.research.google.com/assets/colab-badge.svg\" alt=\"Open In Colab\"/></a>"
      ]
    },
    {
      "cell_type": "code",
      "source": [
        "vidas_diccionario_visual = {\n",
        "        0: \"\"\"\n",
        "                ___________\n",
        "               | /        |\n",
        "               |/        ( )\n",
        "               |          |\n",
        "               |         / \\\\\n",
        "               |\n",
        "           \"\"\",\n",
        "        1: \"\"\"\n",
        "                ___________\n",
        "               | /        |\n",
        "               |/        ( )\n",
        "               |          |\n",
        "               |         /\n",
        "               |\n",
        "            \"\"\",\n",
        "        2: \"\"\"\n",
        "                ___________\n",
        "               | /        |\n",
        "               |/        ( )\n",
        "               |          |\n",
        "               |\n",
        "               |\n",
        "            \"\"\",\n",
        "        3: \"\"\"\n",
        "                ___________\n",
        "               | /        |\n",
        "               |/        ( )\n",
        "               |\n",
        "               |\n",
        "               |\n",
        "            \"\"\",\n",
        "        4: \"\"\"\n",
        "                ___________\n",
        "               | /        |\n",
        "               |/\n",
        "               |\n",
        "               |\n",
        "               |\n",
        "            \"\"\",\n",
        "        5: \"\"\"\n",
        "                ___________\n",
        "               | /\n",
        "               |/\n",
        "               |\n",
        "               |\n",
        "               |\n",
        "            \"\"\",\n",
        "        6: \"\"\"\n",
        "               |\n",
        "               |\n",
        "               |\n",
        "               |\n",
        "               |\n",
        "            \"\"\",\n",
        "        7: \"\",\n",
        "    }"
      ],
      "metadata": {
        "id": "vE6FQ6EiMirn"
      },
      "execution_count": null,
      "outputs": []
    },
    {
      "cell_type": "code",
      "execution_count": null,
      "metadata": {
        "id": "kKqYtWXvDgLG"
      },
      "outputs": [],
      "source": [
        "import random\n",
        "import string\n",
        "palabras = [\"aire\", \"ojos\", \"piel\", \"anteojos\", \"joven\", \"viejo\", \"alto\", \"bajo\", \"pequeño\", \"gordo\", \"delgado\", \"bella\", \"azul\", \"verde\", \"negro\", \"sombrero\", \"guantes\", \"corbata\", \"gemelos\", \"paraguas\", \"plata\", \"oro\", \"perla\", \"diamante\", \"esmeralda\", \"anillo\", \"pulsera\", \"reloj\", \"elegante\", \"sencillo\", \"chaqueta\", \"traje\", \"camisa\", \"zapatos\", \"pelo\", \"maquillaje\", \"peine\", \"dedo\", \"hueso\", \"cara\", \"ojo\", \"calor\", \"ambulancia\", \"enfermera\", \"farmacia\", \"vitaminas\", \"pastillas\", \"dentista\", \"ciego\", \"correr\", \"caminar\", \"regresar\", \"saltar\", \"fin\", \"cerrar\", \"nombre\", \"mujer\", \"hombre\", \"soltero\", \"novio\", \"nacer\", \"vivir\", \"edad\", \"anciana\",\"trabajar\", \"cobrar\", \"azafata\", \"artista\", \"panadero\", \"carpintero\", \"cocinero\", \"maestro\", \"bombero\", \"juez\", \"modelo\", \"monje\", \"pintor\", \"piloto\", \"secretaria\", \"taxista\", \"escritor\", \"jefe\", \"aprendiz\", \"jubilado\", \"empleo\", \"industria\", \"taller\", \"tienda\", \"vacaciones\", \"sueldo\", \"impuesto\", \"huelga\", \"obedecer\", \"locura\", \"humor\", \"inteligencia\", \"orgullo\", \"timidez\", \"valiente\", \"aburrido\", \"loco\", \"divertido\", \"bueno\", \"feliz\", \"amable\", \"pobre\", \"serio\", \"extraño\", \"gritar\", \"llorar\", \"suspirar\", \"preocupado\", \"risa\", \"amor\", \"suerte\", \"enamorado\", \"ver\", \"apagar\", \"luz\", \"color\", \"lupa\", \"microscopio\", \"claro\", \"cantar\", \"silbar\", \"voz\", \"eco\", \"trueno\", \"altavoz\", \"radio\", \"auricular\", \"liso\", \"comer\", \"dulce\", \"salado\", \"perfume\", \"despertarse\", \"vestirse\", \"desayunar\", \"leer\", \"dormirse\", \"toalla\", \"cobija\", \"almuerzo\", \"sopa\", \"agua\", \"leche\", \"jugo\", \"sal\", \"pimienta\", \"vinagre\", \"ajo\", \"perejil\", \"menta\", \"canela\", \"mayonesa\", \"pan\", \"mantequilla\", \"miel\", \"manzana\", \"pera\", \"durazno\", \"cereza\", \"papa\", \"lechuga\", \"arroz\", \"pollo\", \"pavo\", \"hamburguesa\", \"camarones\", \"tortilla\", \"espagueti\", \"sopa\", \"helado\", \"chocolate\", \"galletas\", \"bombones\", \"limpiar\", \"cortar\", \"hervir\", \"planchar\", \"aspiradora\", \"plancha\", \"horno\", \"abrelatas\", \"vajilla\", \"vaso\", \"cafetera\", \"azucarera\", \"comprar\", \"gastar\", \"vender\", \"barato\", \"caro\", \"gratis\", \"cliente\", \"bolsa\", \"precio\", \"recibo\", \"ascensor\", \"esquiar\", \"ciclismo\", \"golf\", \"pelota\", \"tenis\", \"bicicleta\", \"estadio\", \"gol\", \"torneo\", \"leer\", \"dibujar\", \"cantar\", \"bailar\", \"libro\", \"revista\", \"clavo\", \"cine\", \"pala\", \"cocina\", \"hielo\", \"coro\", \"piano\", \"cartas\", \"pesca\", \"radio\", \"noticias\", \"televisor\", \"documental\", \"anuncio\", \"aplaudir\", \"teatro\", \"circo\", \"mago\", \"disco\", \"portero\", \"propina\", \"regalo\", \"fiesta\", \"vela\", \"alfombra\", \"puerta\", \"ventana\", \"cortina\", \"escritorio\", \"cuadro\", \"juguete\", \"alquiler\", \"mudanza\", \"casa\", \"pared\", \"chimenea\", \"comedor\", \"plaza\", \"calle\", \"estacionamiento\", \"parque\", \"puente\", \"puerto\", \"edificio\", \"escuela\", \"museo\", \"estatua\", \"fuente\", \"turista\", \"mendigo\", \"manejar\", \"acelerar\", \"frenar\", \"cruzar\", \"reparar\", \"conductor\", \"multa\", \"atasco\", \"carretera\", \"peaje\", \"curva\", \"florecer\", \"campo\", \"bosque\", \"huerto\", \"selva\", \"tronco\", \"rama\", \"flor\", \"hoja\", \"musgo\", \"cedro\", \"roble\", \"pino\", \"nogal\", \"naranjo\", \"tallo\", \"clavel\", \"margarita\", \"amapola\", \"rosa\", \"girasol\", \"violeta\", \"gato\", \"perro\", \"vaca\", \"pato\", \"oveja\", \"conejo\", \"pez\", \"oso\", \"jirafa\", \"erizo\", \"mariposa\", \"foca\", \"tigre\", \"cobra\", \"almeja\", \"paloma\", \"cisne\", \"mosquito\", \"hormiga\", \"llover\", \"nevar\", \"nublado\", \"soleado\", \"clima\", \"rayo\", \"nieve\", \"sol\", \"viento\", \"padre\", \"madre\", \"hijo\", \"abuela\", \"estudioso\", \"aula\", \"tiza\", \"regla\", \"computadora\", \"diccionario\"]\n",
        "def valido(lista_palabras):\n",
        "  pal_val = random.choice(lista_palabras)\n",
        "\n",
        "  while \"-\" in pal_val or \" \" in pal_val:\n",
        "    pal_val = random.choice(lista_palabras)\n",
        "  return pal_val.upper()\n",
        "\n",
        "def ahorcado():\n",
        "  print(\"bienvenido al juego\")\n",
        "  palabra= valido(palabras)\n",
        "  letras_por_adivinar=set(palabra)\n",
        "  letras_adivinadas=set()\n",
        "  abecedario=set(string.ascii_uppercase)\n",
        "  vidas= 7\n",
        "\n",
        "  while len(letras_por_adivinar) > 0 and vidas > 0:\n",
        "    print(f\"te quedan {vidas} vidas y estas palabras has puesto {'_'.join(letras_adivinadas)}\")\n",
        "    # estado actual de la palabra\n",
        "    palabra_lista= [letra if letra in letras_adivinadas else \"-\" for letra in palabra]\n",
        "    print(vidas_diccionario_visual[vidas])\n",
        "    print(f\"palabra:{''.join(palabra_lista)}\")\n",
        "    letra_usuario= input(\"escoge una letra: \").upper()\n",
        "\n",
        "    if letra_usuario in abecedario - letras_adivinadas:\n",
        "      letras_adivinadas.add(letra_usuario)\n",
        "      if letra_usuario in letras_por_adivinar:\n",
        "        letras_por_adivinar.remove(letra_usuario)\n",
        "        print(\"\")\n",
        "      else:\n",
        "        vidas= vidas - 1\n",
        "        print(f\"\\n la letra {letra_usuario} no es parte de la palabra a adivinar\")\n",
        "    #si la letra ya fue ingresada\n",
        "    elif letra_usuario in letras_adivinadas:\n",
        "      print(\"ya la habias adivinado\")\n",
        "    else:\n",
        "      print(\"esta letra no es valida\")\n",
        "\n",
        "\n",
        "  if vidas == 0:\n",
        "    print(vidas_diccionario_visual[vidas])\n",
        "    print(f\"perdiste, la palabra era {palabra}\")\n",
        "  else:\n",
        "    print(f\"felicidades, ganaste, la palabra fue {palabra}\")\n",
        "ahorcado()\n"
      ]
    }
  ]
}